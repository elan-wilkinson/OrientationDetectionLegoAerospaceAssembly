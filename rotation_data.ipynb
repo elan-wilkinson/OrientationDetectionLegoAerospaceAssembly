{
  "nbformat": 4,
  "nbformat_minor": 0,
  "metadata": {
    "colab": {
      "provenance": [],
      "machine_shape": "hm",
      "gpuType": "A100"
    },
    "kernelspec": {
      "name": "python3",
      "display_name": "Python 3"
    },
    "language_info": {
      "name": "python"
    },
    "accelerator": "GPU"
  },
  "cells": [
    {
      "cell_type": "code",
      "execution_count": null,
      "metadata": {
        "colab": {
          "base_uri": "https://localhost:8080/"
        },
        "id": "uWbrJtfDSgmP",
        "outputId": "08542055-944e-4940-d367-0ea59e4f4d91"
      },
      "outputs": [
        {
          "output_type": "stream",
          "name": "stdout",
          "text": [
            "Mounted at /content/drive\n"
          ]
        }
      ],
      "source": [
        "\n",
        "\n",
        "from google.colab import drive\n",
        "drive.mount('/content/drive')\n"
      ]
    },
    {
      "cell_type": "code",
      "source": [
        "import os\n",
        "import json\n",
        "from PIL import Image\n",
        "from tqdm import tqdm\n",
        "\n",
        "def process_images_and_labels(input_dir, cropped_output_dir, labels_output_dir):\n",
        "    os.makedirs(cropped_output_dir, exist_ok=True)\n",
        "    os.makedirs(labels_output_dir, exist_ok=True)\n",
        "\n",
        "    for item in tqdm(os.listdir(input_dir), desc='Preparing data'):\n",
        "        sequence_path = os.path.join(input_dir, item)\n",
        "\n",
        "        if os.path.isdir(sequence_path) and item.startswith(\"sequence.\"):\n",
        "            image_path = None\n",
        "            json_path = None\n",
        "\n",
        "            for file in os.listdir(sequence_path):\n",
        "                file_path = os.path.join(sequence_path, file)\n",
        "                if file.endswith(\".png\") and not image_path:\n",
        "                    image_path = file_path\n",
        "                elif file.endswith(\".json\") and not json_path:\n",
        "                    json_path = file_path\n",
        "\n",
        "            if image_path and json_path:\n",
        "\n",
        "                with open(json_path, 'r') as f:\n",
        "                    label_data = json.load(f)\n",
        "\n",
        "\n",
        "                annotations = label_data.get(\"captures\", [])[0].get(\"annotations\", [])\n",
        "\n",
        "\n",
        "                bbox_annotation = next(\n",
        "                    (a for a in annotations if a.get(\"@type\") == \"type.unity.com/unity.solo.BoundingBox2DAnnotation\"),\n",
        "                    None\n",
        "                )\n",
        "\n",
        "                if bbox_annotation:\n",
        "                    bbox_values = bbox_annotation.get(\"values\", [{}])[0]\n",
        "                    origin = bbox_values.get(\"origin\")\n",
        "                    dimensions = bbox_values.get(\"dimension\")\n",
        "\n",
        "                    if origin and dimensions:\n",
        "                        x, y = origin\n",
        "                        w, h = dimensions\n",
        "\n",
        "\n",
        "                        image = Image.open(image_path)\n",
        "                        cropped_image = image.crop((x, y, x + w, y + h))\n",
        "\n",
        "\n",
        "                        output_image_path = os.path.join(cropped_output_dir, f\"{item}.png\")\n",
        "                        cropped_image.save(output_image_path)\n",
        "\n",
        "\n",
        "                        rotation_annotation = next(\n",
        "                            (a for a in annotations if a.get(\"@type\") == \"type.unity.com/unity.solo.BoundingBox3DAnnotation\"),\n",
        "                            None\n",
        "                        )\n",
        "                        if rotation_annotation:\n",
        "                            rotation_values = rotation_annotation.get(\"values\", [{}])[0]\n",
        "                            quaternion_angles = rotation_values.get(\"rotation\")\n",
        "\n",
        "                            if quaternion_angles and len(quaternion_angles) == 4:\n",
        "\n",
        "                                output_label_path = os.path.join(labels_output_dir, f\"{item}.txt\")\n",
        "                                with open(output_label_path, 'w') as f:\n",
        "                                    f.write(\" \".join(map(str, quaternion_angles)) + \"\\n\")\n",
        "                            else:\n",
        "                                print(f\"Missing quaternion angles in {json_path}\")\n",
        "                        else:\n",
        "                            print(f\"No valid 3D bounding box in {json_path}\")\n",
        "                    else:\n",
        "                        print(f\"Missing origin or dimension in {json_path}\")\n",
        "                else:\n",
        "                    print(f\"No valid 2D bounding box in {json_path}\")\n",
        "            else:\n",
        "                print(f\"Skipping folder {sequence_path}: missing required PNG or JSON file.\")\n",
        "\n",
        "\n",
        "input_directory = \"/content/drive/MyDrive/CV_FinalProj_Data/shuttle_unzipped/shuttle/shuttle_main\"\n",
        "cropped_images_output_directory = \"/content/drive/MyDrive/CV_FinalProj_Data/Shuttle_main_cropped/images/\"\n",
        "quaternion_labels_output_directory = \"/content/drive/MyDrive/CV_FinalProj_Data/Shuttle_main_cropped/quaternion_labels/\"\n",
        "process_images_and_labels(input_directory, cropped_images_output_directory, quaternion_labels_output_directory)\n"
      ],
      "metadata": {
        "colab": {
          "base_uri": "https://localhost:8080/"
        },
        "id": "qpqjUfG-WDjz",
        "outputId": "3ef4348d-87a2-480f-b766-ab461955ec09"
      },
      "execution_count": null,
      "outputs": [
        {
          "output_type": "stream",
          "name": "stderr",
          "text": [
            "Preparing data: 100%|██████████| 20008/20008 [3:08:14<00:00,  1.77it/s]\n"
          ]
        }
      ]
    }
  ]
}