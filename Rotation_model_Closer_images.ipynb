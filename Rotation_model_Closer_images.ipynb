{
  "nbformat": 4,
  "nbformat_minor": 0,
  "metadata": {
    "colab": {
      "provenance": [],
      "machine_shape": "hm",
      "gpuType": "A100"
    },
    "kernelspec": {
      "name": "python3",
      "display_name": "Python 3"
    },
    "language_info": {
      "name": "python"
    },
    "accelerator": "GPU"
  },
  "cells": [
    {
      "cell_type": "code",
      "source": [
        "import os\n",
        "import pandas as pd\n",
        "import torch\n",
        "import torch.nn as nn\n",
        "import torch.optim as optim\n",
        "from torch.utils.data import Dataset, DataLoader\n",
        "from torchvision import transforms, models\n",
        "from PIL import Image\n",
        "from sklearn.model_selection import train_test_split"
      ],
      "metadata": {
        "id": "JhaoISgHd7X2"
      },
      "execution_count": 2,
      "outputs": []
    },
    {
      "cell_type": "code",
      "source": [
        "shuttle_euler_text_file = '/content/drive/MyDrive/CV_FinalProj_Data/close_dist/shuttle_main_closeDist/0.txt'\n",
        "shuttle_euler_rots_df = pd.read_csv(shuttle_euler_text_file, sep=\",\", header=None)"
      ],
      "metadata": {
        "id": "N-VU0YQZdysY"
      },
      "execution_count": 3,
      "outputs": []
    },
    {
      "cell_type": "code",
      "source": [
        "shuttle_euler_rots_df = shuttle_euler_rots_df.rename(columns={0: 'x'})\n",
        "shuttle_euler_rots_df = shuttle_euler_rots_df.rename(columns={1: 'y'})\n",
        "shuttle_euler_rots_df = shuttle_euler_rots_df.rename(columns={2: 'z'})"
      ],
      "metadata": {
        "id": "hoAKn2vyd1TV"
      },
      "execution_count": 4,
      "outputs": []
    },
    {
      "cell_type": "code",
      "source": [
        "shuttle_euler_rots_df = (shuttle_euler_rots_df - 180.0)/180.0"
      ],
      "metadata": {
        "id": "vnpMQV3teDLP"
      },
      "execution_count": 5,
      "outputs": []
    },
    {
      "cell_type": "code",
      "source": [
        "shuttle_euler_rots_df['img name'] = \"\"\n",
        "# create annotations file:\n",
        "for i in range(0,20001):\n",
        "  shuttle_euler_rots_df.loc[i, 'img name'] = \"sequence.\" + str(i) + \"/\" + \"step0.camera.png\""
      ],
      "metadata": {
        "id": "BBWfPznNeedU"
      },
      "execution_count": 6,
      "outputs": []
    },
    {
      "cell_type": "code",
      "source": [
        "shuttle_euler_rots_df = shuttle_euler_rots_df.reindex(columns=['img name', 'x', 'y', 'z'])"
      ],
      "metadata": {
        "id": "C3EBYKRuehlC"
      },
      "execution_count": 7,
      "outputs": []
    },
    {
      "cell_type": "code",
      "source": [
        "shuttle_euler_rots_df.tail(5)"
      ],
      "metadata": {
        "colab": {
          "base_uri": "https://localhost:8080/",
          "height": 206
        },
        "id": "G50QwMkiekCt",
        "outputId": "b485cc49-cdb5-4be9-e84b-3f832bc414cc"
      },
      "execution_count": 8,
      "outputs": [
        {
          "output_type": "execute_result",
          "data": {
            "text/plain": [
              "                              img name         x         y    z\n",
              "19996  sequence.19996/step0.camera.png -0.711986 -0.290344 -1.0\n",
              "19997  sequence.19997/step0.camera.png -0.652041  0.259622 -1.0\n",
              "19998  sequence.19998/step0.camera.png -0.803894 -0.423482 -1.0\n",
              "19999  sequence.19999/step0.camera.png -0.854223  0.974591 -1.0\n",
              "20000  sequence.20000/step0.camera.png -0.737619  0.796913 -1.0"
            ],
            "text/html": [
              "\n",
              "  <div id=\"df-e08410ca-a6b9-4e79-99d7-73a3c3b2d2af\" class=\"colab-df-container\">\n",
              "    <div>\n",
              "<style scoped>\n",
              "    .dataframe tbody tr th:only-of-type {\n",
              "        vertical-align: middle;\n",
              "    }\n",
              "\n",
              "    .dataframe tbody tr th {\n",
              "        vertical-align: top;\n",
              "    }\n",
              "\n",
              "    .dataframe thead th {\n",
              "        text-align: right;\n",
              "    }\n",
              "</style>\n",
              "<table border=\"1\" class=\"dataframe\">\n",
              "  <thead>\n",
              "    <tr style=\"text-align: right;\">\n",
              "      <th></th>\n",
              "      <th>img name</th>\n",
              "      <th>x</th>\n",
              "      <th>y</th>\n",
              "      <th>z</th>\n",
              "    </tr>\n",
              "  </thead>\n",
              "  <tbody>\n",
              "    <tr>\n",
              "      <th>19996</th>\n",
              "      <td>sequence.19996/step0.camera.png</td>\n",
              "      <td>-0.711986</td>\n",
              "      <td>-0.290344</td>\n",
              "      <td>-1.0</td>\n",
              "    </tr>\n",
              "    <tr>\n",
              "      <th>19997</th>\n",
              "      <td>sequence.19997/step0.camera.png</td>\n",
              "      <td>-0.652041</td>\n",
              "      <td>0.259622</td>\n",
              "      <td>-1.0</td>\n",
              "    </tr>\n",
              "    <tr>\n",
              "      <th>19998</th>\n",
              "      <td>sequence.19998/step0.camera.png</td>\n",
              "      <td>-0.803894</td>\n",
              "      <td>-0.423482</td>\n",
              "      <td>-1.0</td>\n",
              "    </tr>\n",
              "    <tr>\n",
              "      <th>19999</th>\n",
              "      <td>sequence.19999/step0.camera.png</td>\n",
              "      <td>-0.854223</td>\n",
              "      <td>0.974591</td>\n",
              "      <td>-1.0</td>\n",
              "    </tr>\n",
              "    <tr>\n",
              "      <th>20000</th>\n",
              "      <td>sequence.20000/step0.camera.png</td>\n",
              "      <td>-0.737619</td>\n",
              "      <td>0.796913</td>\n",
              "      <td>-1.0</td>\n",
              "    </tr>\n",
              "  </tbody>\n",
              "</table>\n",
              "</div>\n",
              "    <div class=\"colab-df-buttons\">\n",
              "\n",
              "  <div class=\"colab-df-container\">\n",
              "    <button class=\"colab-df-convert\" onclick=\"convertToInteractive('df-e08410ca-a6b9-4e79-99d7-73a3c3b2d2af')\"\n",
              "            title=\"Convert this dataframe to an interactive table.\"\n",
              "            style=\"display:none;\">\n",
              "\n",
              "  <svg xmlns=\"http://www.w3.org/2000/svg\" height=\"24px\" viewBox=\"0 -960 960 960\">\n",
              "    <path d=\"M120-120v-720h720v720H120Zm60-500h600v-160H180v160Zm220 220h160v-160H400v160Zm0 220h160v-160H400v160ZM180-400h160v-160H180v160Zm440 0h160v-160H620v160ZM180-180h160v-160H180v160Zm440 0h160v-160H620v160Z\"/>\n",
              "  </svg>\n",
              "    </button>\n",
              "\n",
              "  <style>\n",
              "    .colab-df-container {\n",
              "      display:flex;\n",
              "      gap: 12px;\n",
              "    }\n",
              "\n",
              "    .colab-df-convert {\n",
              "      background-color: #E8F0FE;\n",
              "      border: none;\n",
              "      border-radius: 50%;\n",
              "      cursor: pointer;\n",
              "      display: none;\n",
              "      fill: #1967D2;\n",
              "      height: 32px;\n",
              "      padding: 0 0 0 0;\n",
              "      width: 32px;\n",
              "    }\n",
              "\n",
              "    .colab-df-convert:hover {\n",
              "      background-color: #E2EBFA;\n",
              "      box-shadow: 0px 1px 2px rgba(60, 64, 67, 0.3), 0px 1px 3px 1px rgba(60, 64, 67, 0.15);\n",
              "      fill: #174EA6;\n",
              "    }\n",
              "\n",
              "    .colab-df-buttons div {\n",
              "      margin-bottom: 4px;\n",
              "    }\n",
              "\n",
              "    [theme=dark] .colab-df-convert {\n",
              "      background-color: #3B4455;\n",
              "      fill: #D2E3FC;\n",
              "    }\n",
              "\n",
              "    [theme=dark] .colab-df-convert:hover {\n",
              "      background-color: #434B5C;\n",
              "      box-shadow: 0px 1px 3px 1px rgba(0, 0, 0, 0.15);\n",
              "      filter: drop-shadow(0px 1px 2px rgba(0, 0, 0, 0.3));\n",
              "      fill: #FFFFFF;\n",
              "    }\n",
              "  </style>\n",
              "\n",
              "    <script>\n",
              "      const buttonEl =\n",
              "        document.querySelector('#df-e08410ca-a6b9-4e79-99d7-73a3c3b2d2af button.colab-df-convert');\n",
              "      buttonEl.style.display =\n",
              "        google.colab.kernel.accessAllowed ? 'block' : 'none';\n",
              "\n",
              "      async function convertToInteractive(key) {\n",
              "        const element = document.querySelector('#df-e08410ca-a6b9-4e79-99d7-73a3c3b2d2af');\n",
              "        const dataTable =\n",
              "          await google.colab.kernel.invokeFunction('convertToInteractive',\n",
              "                                                    [key], {});\n",
              "        if (!dataTable) return;\n",
              "\n",
              "        const docLinkHtml = 'Like what you see? Visit the ' +\n",
              "          '<a target=\"_blank\" href=https://colab.research.google.com/notebooks/data_table.ipynb>data table notebook</a>'\n",
              "          + ' to learn more about interactive tables.';\n",
              "        element.innerHTML = '';\n",
              "        dataTable['output_type'] = 'display_data';\n",
              "        await google.colab.output.renderOutput(dataTable, element);\n",
              "        const docLink = document.createElement('div');\n",
              "        docLink.innerHTML = docLinkHtml;\n",
              "        element.appendChild(docLink);\n",
              "      }\n",
              "    </script>\n",
              "  </div>\n",
              "\n",
              "\n",
              "<div id=\"df-badd6a4f-74e8-4722-a81c-090f4f077dff\">\n",
              "  <button class=\"colab-df-quickchart\" onclick=\"quickchart('df-badd6a4f-74e8-4722-a81c-090f4f077dff')\"\n",
              "            title=\"Suggest charts\"\n",
              "            style=\"display:none;\">\n",
              "\n",
              "<svg xmlns=\"http://www.w3.org/2000/svg\" height=\"24px\"viewBox=\"0 0 24 24\"\n",
              "     width=\"24px\">\n",
              "    <g>\n",
              "        <path d=\"M19 3H5c-1.1 0-2 .9-2 2v14c0 1.1.9 2 2 2h14c1.1 0 2-.9 2-2V5c0-1.1-.9-2-2-2zM9 17H7v-7h2v7zm4 0h-2V7h2v10zm4 0h-2v-4h2v4z\"/>\n",
              "    </g>\n",
              "</svg>\n",
              "  </button>\n",
              "\n",
              "<style>\n",
              "  .colab-df-quickchart {\n",
              "      --bg-color: #E8F0FE;\n",
              "      --fill-color: #1967D2;\n",
              "      --hover-bg-color: #E2EBFA;\n",
              "      --hover-fill-color: #174EA6;\n",
              "      --disabled-fill-color: #AAA;\n",
              "      --disabled-bg-color: #DDD;\n",
              "  }\n",
              "\n",
              "  [theme=dark] .colab-df-quickchart {\n",
              "      --bg-color: #3B4455;\n",
              "      --fill-color: #D2E3FC;\n",
              "      --hover-bg-color: #434B5C;\n",
              "      --hover-fill-color: #FFFFFF;\n",
              "      --disabled-bg-color: #3B4455;\n",
              "      --disabled-fill-color: #666;\n",
              "  }\n",
              "\n",
              "  .colab-df-quickchart {\n",
              "    background-color: var(--bg-color);\n",
              "    border: none;\n",
              "    border-radius: 50%;\n",
              "    cursor: pointer;\n",
              "    display: none;\n",
              "    fill: var(--fill-color);\n",
              "    height: 32px;\n",
              "    padding: 0;\n",
              "    width: 32px;\n",
              "  }\n",
              "\n",
              "  .colab-df-quickchart:hover {\n",
              "    background-color: var(--hover-bg-color);\n",
              "    box-shadow: 0 1px 2px rgba(60, 64, 67, 0.3), 0 1px 3px 1px rgba(60, 64, 67, 0.15);\n",
              "    fill: var(--button-hover-fill-color);\n",
              "  }\n",
              "\n",
              "  .colab-df-quickchart-complete:disabled,\n",
              "  .colab-df-quickchart-complete:disabled:hover {\n",
              "    background-color: var(--disabled-bg-color);\n",
              "    fill: var(--disabled-fill-color);\n",
              "    box-shadow: none;\n",
              "  }\n",
              "\n",
              "  .colab-df-spinner {\n",
              "    border: 2px solid var(--fill-color);\n",
              "    border-color: transparent;\n",
              "    border-bottom-color: var(--fill-color);\n",
              "    animation:\n",
              "      spin 1s steps(1) infinite;\n",
              "  }\n",
              "\n",
              "  @keyframes spin {\n",
              "    0% {\n",
              "      border-color: transparent;\n",
              "      border-bottom-color: var(--fill-color);\n",
              "      border-left-color: var(--fill-color);\n",
              "    }\n",
              "    20% {\n",
              "      border-color: transparent;\n",
              "      border-left-color: var(--fill-color);\n",
              "      border-top-color: var(--fill-color);\n",
              "    }\n",
              "    30% {\n",
              "      border-color: transparent;\n",
              "      border-left-color: var(--fill-color);\n",
              "      border-top-color: var(--fill-color);\n",
              "      border-right-color: var(--fill-color);\n",
              "    }\n",
              "    40% {\n",
              "      border-color: transparent;\n",
              "      border-right-color: var(--fill-color);\n",
              "      border-top-color: var(--fill-color);\n",
              "    }\n",
              "    60% {\n",
              "      border-color: transparent;\n",
              "      border-right-color: var(--fill-color);\n",
              "    }\n",
              "    80% {\n",
              "      border-color: transparent;\n",
              "      border-right-color: var(--fill-color);\n",
              "      border-bottom-color: var(--fill-color);\n",
              "    }\n",
              "    90% {\n",
              "      border-color: transparent;\n",
              "      border-bottom-color: var(--fill-color);\n",
              "    }\n",
              "  }\n",
              "</style>\n",
              "\n",
              "  <script>\n",
              "    async function quickchart(key) {\n",
              "      const quickchartButtonEl =\n",
              "        document.querySelector('#' + key + ' button');\n",
              "      quickchartButtonEl.disabled = true;  // To prevent multiple clicks.\n",
              "      quickchartButtonEl.classList.add('colab-df-spinner');\n",
              "      try {\n",
              "        const charts = await google.colab.kernel.invokeFunction(\n",
              "            'suggestCharts', [key], {});\n",
              "      } catch (error) {\n",
              "        console.error('Error during call to suggestCharts:', error);\n",
              "      }\n",
              "      quickchartButtonEl.classList.remove('colab-df-spinner');\n",
              "      quickchartButtonEl.classList.add('colab-df-quickchart-complete');\n",
              "    }\n",
              "    (() => {\n",
              "      let quickchartButtonEl =\n",
              "        document.querySelector('#df-badd6a4f-74e8-4722-a81c-090f4f077dff button');\n",
              "      quickchartButtonEl.style.display =\n",
              "        google.colab.kernel.accessAllowed ? 'block' : 'none';\n",
              "    })();\n",
              "  </script>\n",
              "</div>\n",
              "\n",
              "    </div>\n",
              "  </div>\n"
            ],
            "application/vnd.google.colaboratory.intrinsic+json": {
              "type": "dataframe",
              "summary": "{\n  \"name\": \"shuttle_euler_rots_df\",\n  \"rows\": 5,\n  \"fields\": [\n    {\n      \"column\": \"img name\",\n      \"properties\": {\n        \"dtype\": \"string\",\n        \"num_unique_values\": 5,\n        \"samples\": [\n          \"sequence.19997/step0.camera.png\",\n          \"sequence.20000/step0.camera.png\",\n          \"sequence.19998/step0.camera.png\"\n        ],\n        \"semantic_type\": \"\",\n        \"description\": \"\"\n      }\n    },\n    {\n      \"column\": \"x\",\n      \"properties\": {\n        \"dtype\": \"number\",\n        \"std\": 0.07896569396689197,\n        \"min\": -0.8542227777777778,\n        \"max\": -0.6520405555555555,\n        \"num_unique_values\": 5,\n        \"samples\": [\n          -0.6520405555555555,\n          -0.7376188888888889,\n          -0.8038938888888888\n        ],\n        \"semantic_type\": \"\",\n        \"description\": \"\"\n      }\n    },\n    {\n      \"column\": \"y\",\n      \"properties\": {\n        \"dtype\": \"number\",\n        \"std\": 0.6262749950682583,\n        \"min\": -0.42348166666666665,\n        \"max\": 0.9745905555555557,\n        \"num_unique_values\": 5,\n        \"samples\": [\n          0.2596222222222222,\n          0.7969127777777778,\n          -0.42348166666666665\n        ],\n        \"semantic_type\": \"\",\n        \"description\": \"\"\n      }\n    },\n    {\n      \"column\": \"z\",\n      \"properties\": {\n        \"dtype\": \"number\",\n        \"std\": 0.0,\n        \"min\": -1.0,\n        \"max\": -1.0,\n        \"num_unique_values\": 1,\n        \"samples\": [\n          -1.0\n        ],\n        \"semantic_type\": \"\",\n        \"description\": \"\"\n      }\n    }\n  ]\n}"
            }
          },
          "metadata": {},
          "execution_count": 8
        }
      ]
    },
    {
      "cell_type": "code",
      "execution_count": 18,
      "metadata": {
        "id": "mVKIhsigc-x_"
      },
      "outputs": [],
      "source": [
        "\n",
        "\n",
        "\n",
        "# Define the custom model\n",
        "class ResNetRotationModel(nn.Module):\n",
        "    def __init__(self, pretrained=True):\n",
        "        super(ResNetRotationModel, self).__init__()\n",
        "        # Load a pre-trained ResNet model\n",
        "        self.backbone = models.resnet18(pretrained=pretrained)\n",
        "        num_features = self.backbone.fc.in_features\n",
        "        # Replace the fully connected layer with a custom head for regression\n",
        "        self.backbone.fc = nn.Linear(num_features, 3)  # Output x, y, z rotations\n",
        "\n",
        "    def forward(self, x):\n",
        "        return self.backbone(x)\n",
        "\n",
        "# Define a custom dataset\n",
        "class RotationDataset(Dataset):\n",
        "    def __init__(self, image_dir, annotations, transform=None):\n",
        "        self.image_dir = image_dir\n",
        "        self.annotations = annotations\n",
        "        self.transform = transform\n",
        "\n",
        "    def __len__(self):\n",
        "        return len(self.annotations)\n",
        "\n",
        "    def __getitem__(self, idx):\n",
        "        if isinstance(idx, torch.Tensor):\n",
        "            idx = idx.item()\n",
        "\n",
        "        # Load image\n",
        "        img_name = os.path.join(self.image_dir, str(self.annotations.iloc[idx, 0]))\n",
        "        image = Image.open(img_name).convert(\"RGB\")\n",
        "\n",
        "        # Load rotation labels (x, y, z)\n",
        "        rotation_labels = self.annotations.iloc[idx, 1:4].values.astype('float')\n",
        "        rotation_labels = torch.tensor(rotation_labels, dtype=torch.float32)\n",
        "\n",
        "        if self.transform:\n",
        "            image = self.transform(image)\n",
        "\n",
        "        return image, rotation_labels\n",
        "\n",
        "# Paths\n",
        "images = '/content/drive/MyDrive/CV_FinalProj_Data/close_dist/shuttle_main_closeDist/solo/'\n",
        "annotations_file = shuttle_euler_rots_df\n",
        "\n",
        "# Define transformations for images\n",
        "transform = transforms.Compose([\n",
        "    transforms.Resize((224, 224)),  # Resize to match ResNet input size\n",
        "    transforms.ToTensor(),\n",
        "    transforms.Normalize([0.485, 0.456, 0.406], [0.229, 0.224, 0.225])  # Standard normalization for ResNet\n",
        "])\n",
        "\n",
        "# Split data\n",
        "train_annotations, test_annotations = train_test_split(annotations_file, test_size=0.2, random_state=42)\n",
        "\n",
        "\n",
        "train_dataset = RotationDataset(image_dir=images, annotations=train_annotations, transform=transform)\n",
        "test_dataset = RotationDataset(image_dir=images, annotations=test_annotations, transform=transform)\n",
        "\n",
        "train_loader = DataLoader(train_dataset, batch_size=32, shuffle=True, num_workers=4, pin_memory=True)\n",
        "test_loader = DataLoader(test_dataset, batch_size=32, shuffle=False, num_workers=4, pin_memory=True)"
      ]
    },
    {
      "cell_type": "code",
      "source": [
        "device = torch.device('cuda') if torch.cuda.is_available() else torch.device('cpu')\n",
        "model = ResNetRotationModel(pretrained=True).to(device)\n",
        "\n",
        "\n",
        "\n",
        "criterion = nn.MSELoss()\n",
        "optimizer = optim.Adam(filter(lambda p: p.requires_grad, model.parameters()), lr=0.001)\n",
        "scheduler = torch.optim.lr_scheduler.StepLR(optimizer, step_size=5, gamma=0.1)"
      ],
      "metadata": {
        "id": "GoiWqmOte8bB"
      },
      "execution_count": 20,
      "outputs": []
    },
    {
      "cell_type": "code",
      "source": [
        "for param in model.backbone.parameters():\n",
        "    param.requires_grad = False\n",
        "\n",
        "for param in model.backbone.fc.parameters():\n",
        "    param.requires_grad = True\n",
        "\n",
        "for name, param in model.named_parameters():\n",
        "    print(f\"{name}: requires_grad={param.requires_grad}\")"
      ],
      "metadata": {
        "colab": {
          "base_uri": "https://localhost:8080/"
        },
        "id": "I3aeFDXSf6bH",
        "outputId": "4d26b7cc-872e-4c75-abb8-34d6d6443a04"
      },
      "execution_count": 21,
      "outputs": [
        {
          "output_type": "stream",
          "name": "stdout",
          "text": [
            "backbone.conv1.weight: requires_grad=False\n",
            "backbone.bn1.weight: requires_grad=False\n",
            "backbone.bn1.bias: requires_grad=False\n",
            "backbone.layer1.0.conv1.weight: requires_grad=False\n",
            "backbone.layer1.0.bn1.weight: requires_grad=False\n",
            "backbone.layer1.0.bn1.bias: requires_grad=False\n",
            "backbone.layer1.0.conv2.weight: requires_grad=False\n",
            "backbone.layer1.0.bn2.weight: requires_grad=False\n",
            "backbone.layer1.0.bn2.bias: requires_grad=False\n",
            "backbone.layer1.1.conv1.weight: requires_grad=False\n",
            "backbone.layer1.1.bn1.weight: requires_grad=False\n",
            "backbone.layer1.1.bn1.bias: requires_grad=False\n",
            "backbone.layer1.1.conv2.weight: requires_grad=False\n",
            "backbone.layer1.1.bn2.weight: requires_grad=False\n",
            "backbone.layer1.1.bn2.bias: requires_grad=False\n",
            "backbone.layer2.0.conv1.weight: requires_grad=False\n",
            "backbone.layer2.0.bn1.weight: requires_grad=False\n",
            "backbone.layer2.0.bn1.bias: requires_grad=False\n",
            "backbone.layer2.0.conv2.weight: requires_grad=False\n",
            "backbone.layer2.0.bn2.weight: requires_grad=False\n",
            "backbone.layer2.0.bn2.bias: requires_grad=False\n",
            "backbone.layer2.0.downsample.0.weight: requires_grad=False\n",
            "backbone.layer2.0.downsample.1.weight: requires_grad=False\n",
            "backbone.layer2.0.downsample.1.bias: requires_grad=False\n",
            "backbone.layer2.1.conv1.weight: requires_grad=False\n",
            "backbone.layer2.1.bn1.weight: requires_grad=False\n",
            "backbone.layer2.1.bn1.bias: requires_grad=False\n",
            "backbone.layer2.1.conv2.weight: requires_grad=False\n",
            "backbone.layer2.1.bn2.weight: requires_grad=False\n",
            "backbone.layer2.1.bn2.bias: requires_grad=False\n",
            "backbone.layer3.0.conv1.weight: requires_grad=False\n",
            "backbone.layer3.0.bn1.weight: requires_grad=False\n",
            "backbone.layer3.0.bn1.bias: requires_grad=False\n",
            "backbone.layer3.0.conv2.weight: requires_grad=False\n",
            "backbone.layer3.0.bn2.weight: requires_grad=False\n",
            "backbone.layer3.0.bn2.bias: requires_grad=False\n",
            "backbone.layer3.0.downsample.0.weight: requires_grad=False\n",
            "backbone.layer3.0.downsample.1.weight: requires_grad=False\n",
            "backbone.layer3.0.downsample.1.bias: requires_grad=False\n",
            "backbone.layer3.1.conv1.weight: requires_grad=False\n",
            "backbone.layer3.1.bn1.weight: requires_grad=False\n",
            "backbone.layer3.1.bn1.bias: requires_grad=False\n",
            "backbone.layer3.1.conv2.weight: requires_grad=False\n",
            "backbone.layer3.1.bn2.weight: requires_grad=False\n",
            "backbone.layer3.1.bn2.bias: requires_grad=False\n",
            "backbone.layer4.0.conv1.weight: requires_grad=False\n",
            "backbone.layer4.0.bn1.weight: requires_grad=False\n",
            "backbone.layer4.0.bn1.bias: requires_grad=False\n",
            "backbone.layer4.0.conv2.weight: requires_grad=False\n",
            "backbone.layer4.0.bn2.weight: requires_grad=False\n",
            "backbone.layer4.0.bn2.bias: requires_grad=False\n",
            "backbone.layer4.0.downsample.0.weight: requires_grad=False\n",
            "backbone.layer4.0.downsample.1.weight: requires_grad=False\n",
            "backbone.layer4.0.downsample.1.bias: requires_grad=False\n",
            "backbone.layer4.1.conv1.weight: requires_grad=False\n",
            "backbone.layer4.1.bn1.weight: requires_grad=False\n",
            "backbone.layer4.1.bn1.bias: requires_grad=False\n",
            "backbone.layer4.1.conv2.weight: requires_grad=False\n",
            "backbone.layer4.1.bn2.weight: requires_grad=False\n",
            "backbone.layer4.1.bn2.bias: requires_grad=False\n",
            "backbone.fc.weight: requires_grad=True\n",
            "backbone.fc.bias: requires_grad=True\n"
          ]
        }
      ]
    },
    {
      "cell_type": "code",
      "source": [
        "from tqdm import tqdm\n",
        "\n",
        "training_losses = []\n",
        "testing_losses = []\n",
        "\n",
        "num_epochs = 15\n",
        "for epoch in range(num_epochs):\n",
        "  model.train()\n",
        "  for images, rotation_labels in tqdm(train_loader, desc=f' Training epoch{epoch + 1}/{num_epochs}', dynamic_ncols=True):\n",
        "      images, rotation_labels = images.to(device), rotation_labels.to(device)\n",
        "\n",
        "      optimizer.zero_grad()\n",
        "      outputs = model(images)\n",
        "      loss = criterion(outputs, rotation_labels)\n",
        "      loss.backward()\n",
        "      torch.nn.utils.clip_grad_norm_(model.parameters(), max_norm=1.0)\n",
        "      optimizer.step()\n",
        "\n",
        "  # Evaluation\n",
        "  model.eval()\n",
        "  test_loss = 0\n",
        "  with torch.no_grad():\n",
        "      for test_images, test_rotation_labels in tqdm(test_loader, desc=f' Eval epoch{epoch + 1}/{num_epochs}', dynamic_ncols=True):\n",
        "          test_images, test_rotation_labels = test_images.to(device), test_rotation_labels.to(device)\n",
        "          test_outputs = model(test_images)\n",
        "          test_loss += criterion(test_outputs, test_rotation_labels).item()\n",
        "\n",
        "  training_losses.append(loss.item())\n",
        "  testing_losses.append(test_loss / len(test_loader))\n",
        "  print(f\"Epoch {epoch + 1}, Loss: {loss.item()}, Test Loss: {test_loss / len(test_loader)}\")\n",
        "\n",
        "  # save model state\n",
        "  torch.save(model.state_dict(), '/content/drive/MyDrive/rotation_resnet18_frozen.pth')"
      ],
      "metadata": {
        "colab": {
          "base_uri": "https://localhost:8080/"
        },
        "id": "jHwObF9ghqAA",
        "outputId": "f611a3b3-824e-4c85-ea82-f96283ed104a"
      },
      "execution_count": 22,
      "outputs": [
        {
          "output_type": "stream",
          "name": "stderr",
          "text": [
            " Training epoch1/15: 100%|██████████| 500/500 [1:21:07<00:00,  9.73s/it]\n",
            " Eval epoch1/15: 100%|██████████| 126/126 [22:14<00:00, 10.59s/it]\n"
          ]
        },
        {
          "output_type": "stream",
          "name": "stdout",
          "text": [
            "Epoch 1, Loss: 0.06206341087818146, Test Loss: 0.06273581616817013\n"
          ]
        },
        {
          "output_type": "stream",
          "name": "stderr",
          "text": [
            " Training epoch2/15: 100%|██████████| 500/500 [02:52<00:00,  2.90it/s]\n",
            " Eval epoch2/15: 100%|██████████| 126/126 [00:44<00:00,  2.85it/s]\n"
          ]
        },
        {
          "output_type": "stream",
          "name": "stdout",
          "text": [
            "Epoch 2, Loss: 0.07378200441598892, Test Loss: 0.054676767276038256\n"
          ]
        },
        {
          "output_type": "stream",
          "name": "stderr",
          "text": [
            " Training epoch3/15: 100%|██████████| 500/500 [02:52<00:00,  2.89it/s]\n",
            " Eval epoch3/15: 100%|██████████| 126/126 [00:43<00:00,  2.88it/s]\n"
          ]
        },
        {
          "output_type": "stream",
          "name": "stdout",
          "text": [
            "Epoch 3, Loss: 0.03667479008436203, Test Loss: 0.0677554198422484\n"
          ]
        },
        {
          "output_type": "stream",
          "name": "stderr",
          "text": [
            " Training epoch4/15: 100%|██████████| 500/500 [02:51<00:00,  2.91it/s]\n",
            " Eval epoch4/15: 100%|██████████| 126/126 [00:43<00:00,  2.88it/s]\n"
          ]
        },
        {
          "output_type": "stream",
          "name": "stdout",
          "text": [
            "Epoch 4, Loss: 0.05422059819102287, Test Loss: 0.051716147655887265\n"
          ]
        },
        {
          "output_type": "stream",
          "name": "stderr",
          "text": [
            " Training epoch5/15: 100%|██████████| 500/500 [02:51<00:00,  2.91it/s]\n",
            " Eval epoch5/15: 100%|██████████| 126/126 [00:44<00:00,  2.86it/s]\n"
          ]
        },
        {
          "output_type": "stream",
          "name": "stdout",
          "text": [
            "Epoch 5, Loss: 0.05593708157539368, Test Loss: 0.05986509736745604\n"
          ]
        },
        {
          "output_type": "stream",
          "name": "stderr",
          "text": [
            " Training epoch6/15: 100%|██████████| 500/500 [02:52<00:00,  2.90it/s]\n",
            " Eval epoch6/15: 100%|██████████| 126/126 [00:43<00:00,  2.88it/s]\n"
          ]
        },
        {
          "output_type": "stream",
          "name": "stdout",
          "text": [
            "Epoch 6, Loss: 0.06588597595691681, Test Loss: 0.0521926363516185\n"
          ]
        },
        {
          "output_type": "stream",
          "name": "stderr",
          "text": [
            " Training epoch7/15: 100%|██████████| 500/500 [02:51<00:00,  2.91it/s]\n",
            " Eval epoch7/15: 100%|██████████| 126/126 [00:43<00:00,  2.89it/s]\n"
          ]
        },
        {
          "output_type": "stream",
          "name": "stdout",
          "text": [
            "Epoch 7, Loss: 0.05491725727915764, Test Loss: 0.059605848493187556\n"
          ]
        },
        {
          "output_type": "stream",
          "name": "stderr",
          "text": [
            " Training epoch8/15: 100%|██████████| 500/500 [02:53<00:00,  2.89it/s]\n",
            " Eval epoch8/15: 100%|██████████| 126/126 [00:43<00:00,  2.89it/s]\n"
          ]
        },
        {
          "output_type": "stream",
          "name": "stdout",
          "text": [
            "Epoch 8, Loss: 0.03540309891104698, Test Loss: 0.05388836197495934\n"
          ]
        },
        {
          "output_type": "stream",
          "name": "stderr",
          "text": [
            " Training epoch9/15: 100%|██████████| 500/500 [02:52<00:00,  2.90it/s]\n",
            " Eval epoch9/15: 100%|██████████| 126/126 [00:44<00:00,  2.85it/s]\n"
          ]
        },
        {
          "output_type": "stream",
          "name": "stdout",
          "text": [
            "Epoch 9, Loss: 0.07278446853160858, Test Loss: 0.056706164874846025\n"
          ]
        },
        {
          "output_type": "stream",
          "name": "stderr",
          "text": [
            " Training epoch10/15: 100%|██████████| 500/500 [02:51<00:00,  2.91it/s]\n",
            " Eval epoch10/15: 100%|██████████| 126/126 [00:44<00:00,  2.86it/s]\n"
          ]
        },
        {
          "output_type": "stream",
          "name": "stdout",
          "text": [
            "Epoch 10, Loss: 0.047660212963819504, Test Loss: 0.0632773180832229\n"
          ]
        },
        {
          "output_type": "stream",
          "name": "stderr",
          "text": [
            " Training epoch11/15: 100%|██████████| 500/500 [02:52<00:00,  2.90it/s]\n",
            " Eval epoch11/15: 100%|██████████| 126/126 [00:43<00:00,  2.89it/s]\n"
          ]
        },
        {
          "output_type": "stream",
          "name": "stdout",
          "text": [
            "Epoch 11, Loss: 0.020974203944206238, Test Loss: 0.05929468258742302\n"
          ]
        },
        {
          "output_type": "stream",
          "name": "stderr",
          "text": [
            " Training epoch12/15: 100%|██████████| 500/500 [02:53<00:00,  2.89it/s]\n",
            " Eval epoch12/15: 100%|██████████| 126/126 [00:43<00:00,  2.90it/s]\n"
          ]
        },
        {
          "output_type": "stream",
          "name": "stdout",
          "text": [
            "Epoch 12, Loss: 0.04193302243947983, Test Loss: 0.05637170786836317\n"
          ]
        },
        {
          "output_type": "stream",
          "name": "stderr",
          "text": [
            " Training epoch13/15: 100%|██████████| 500/500 [02:52<00:00,  2.90it/s]\n",
            " Eval epoch13/15: 100%|██████████| 126/126 [00:44<00:00,  2.84it/s]\n"
          ]
        },
        {
          "output_type": "stream",
          "name": "stdout",
          "text": [
            "Epoch 13, Loss: 0.03880421817302704, Test Loss: 0.05110829261442026\n"
          ]
        },
        {
          "output_type": "stream",
          "name": "stderr",
          "text": [
            " Training epoch14/15: 100%|██████████| 500/500 [02:54<00:00,  2.87it/s]\n",
            " Eval epoch14/15: 100%|██████████| 126/126 [00:44<00:00,  2.85it/s]\n"
          ]
        },
        {
          "output_type": "stream",
          "name": "stdout",
          "text": [
            "Epoch 14, Loss: 0.0571146123111248, Test Loss: 0.0639623859601598\n"
          ]
        },
        {
          "output_type": "stream",
          "name": "stderr",
          "text": [
            " Training epoch15/15: 100%|██████████| 500/500 [02:53<00:00,  2.89it/s]\n",
            " Eval epoch15/15: 100%|██████████| 126/126 [00:43<00:00,  2.87it/s]"
          ]
        },
        {
          "output_type": "stream",
          "name": "stdout",
          "text": [
            "Epoch 15, Loss: 0.077629454433918, Test Loss: 0.055359684862196445\n"
          ]
        },
        {
          "output_type": "stream",
          "name": "stderr",
          "text": [
            "\n"
          ]
        }
      ]
    },
    {
      "cell_type": "code",
      "source": [
        "import matplotlib.pyplot as plt\n",
        "\n",
        "plt.figure(figsize=(10, 5))\n",
        "plt.plot(range(1, num_epochs + 1), training_losses, label='Training Loss')\n",
        "plt.plot(range(1, num_epochs + 1), testing_losses, label='Testing Loss')\n",
        "plt.xlabel('Epoch')\n",
        "plt.ylabel('Loss')\n",
        "plt.title('Training and Testing Loss Over Epochs')\n",
        "plt.legend()\n",
        "plt.show()"
      ],
      "metadata": {
        "colab": {
          "base_uri": "https://localhost:8080/",
          "height": 487
        },
        "id": "ALZvwBKELaiY",
        "outputId": "6ace1763-2abf-4aaf-e07e-a0cc6be62063"
      },
      "execution_count": 23,
      "outputs": [
        {
          "output_type": "display_data",
          "data": {
            "text/plain": [
              "<Figure size 1000x500 with 1 Axes>"
            ],
            "image/png": "[encoded data removed]"
          },
          "metadata": {}
        }
      ]
    },
    {
      "cell_type": "code",
      "source": [
        "for param in model.backbone.parameters():\n",
        "    param.requires_grad = True\n",
        "\n",
        "for param in model.backbone.fc.parameters():\n",
        "    param.requires_grad = True\n",
        "\n",
        "for name, param in model.named_parameters():\n",
        "    print(f\"{name}: requires_grad={param.requires_grad}\")"
      ],
      "metadata": {
        "colab": {
          "base_uri": "https://localhost:8080/"
        },
        "id": "FANRXzwmL7tO",
        "outputId": "e6e46574-c79c-4a40-f9e0-666b433a24b6"
      },
      "execution_count": 24,
      "outputs": [
        {
          "output_type": "stream",
          "name": "stdout",
          "text": [
            "backbone.conv1.weight: requires_grad=True\n",
            "backbone.bn1.weight: requires_grad=True\n",
            "backbone.bn1.bias: requires_grad=True\n",
            "backbone.layer1.0.conv1.weight: requires_grad=True\n",
            "backbone.layer1.0.bn1.weight: requires_grad=True\n",
            "backbone.layer1.0.bn1.bias: requires_grad=True\n",
            "backbone.layer1.0.conv2.weight: requires_grad=True\n",
            "backbone.layer1.0.bn2.weight: requires_grad=True\n",
            "backbone.layer1.0.bn2.bias: requires_grad=True\n",
            "backbone.layer1.1.conv1.weight: requires_grad=True\n",
            "backbone.layer1.1.bn1.weight: requires_grad=True\n",
            "backbone.layer1.1.bn1.bias: requires_grad=True\n",
            "backbone.layer1.1.conv2.weight: requires_grad=True\n",
            "backbone.layer1.1.bn2.weight: requires_grad=True\n",
            "backbone.layer1.1.bn2.bias: requires_grad=True\n",
            "backbone.layer2.0.conv1.weight: requires_grad=True\n",
            "backbone.layer2.0.bn1.weight: requires_grad=True\n",
            "backbone.layer2.0.bn1.bias: requires_grad=True\n",
            "backbone.layer2.0.conv2.weight: requires_grad=True\n",
            "backbone.layer2.0.bn2.weight: requires_grad=True\n",
            "backbone.layer2.0.bn2.bias: requires_grad=True\n",
            "backbone.layer2.0.downsample.0.weight: requires_grad=True\n",
            "backbone.layer2.0.downsample.1.weight: requires_grad=True\n",
            "backbone.layer2.0.downsample.1.bias: requires_grad=True\n",
            "backbone.layer2.1.conv1.weight: requires_grad=True\n",
            "backbone.layer2.1.bn1.weight: requires_grad=True\n",
            "backbone.layer2.1.bn1.bias: requires_grad=True\n",
            "backbone.layer2.1.conv2.weight: requires_grad=True\n",
            "backbone.layer2.1.bn2.weight: requires_grad=True\n",
            "backbone.layer2.1.bn2.bias: requires_grad=True\n",
            "backbone.layer3.0.conv1.weight: requires_grad=True\n",
            "backbone.layer3.0.bn1.weight: requires_grad=True\n",
            "backbone.layer3.0.bn1.bias: requires_grad=True\n",
            "backbone.layer3.0.conv2.weight: requires_grad=True\n",
            "backbone.layer3.0.bn2.weight: requires_grad=True\n",
            "backbone.layer3.0.bn2.bias: requires_grad=True\n",
            "backbone.layer3.0.downsample.0.weight: requires_grad=True\n",
            "backbone.layer3.0.downsample.1.weight: requires_grad=True\n",
            "backbone.layer3.0.downsample.1.bias: requires_grad=True\n",
            "backbone.layer3.1.conv1.weight: requires_grad=True\n",
            "backbone.layer3.1.bn1.weight: requires_grad=True\n",
            "backbone.layer3.1.bn1.bias: requires_grad=True\n",
            "backbone.layer3.1.conv2.weight: requires_grad=True\n",
            "backbone.layer3.1.bn2.weight: requires_grad=True\n",
            "backbone.layer3.1.bn2.bias: requires_grad=True\n",
            "backbone.layer4.0.conv1.weight: requires_grad=True\n",
            "backbone.layer4.0.bn1.weight: requires_grad=True\n",
            "backbone.layer4.0.bn1.bias: requires_grad=True\n",
            "backbone.layer4.0.conv2.weight: requires_grad=True\n",
            "backbone.layer4.0.bn2.weight: requires_grad=True\n",
            "backbone.layer4.0.bn2.bias: requires_grad=True\n",
            "backbone.layer4.0.downsample.0.weight: requires_grad=True\n",
            "backbone.layer4.0.downsample.1.weight: requires_grad=True\n",
            "backbone.layer4.0.downsample.1.bias: requires_grad=True\n",
            "backbone.layer4.1.conv1.weight: requires_grad=True\n",
            "backbone.layer4.1.bn1.weight: requires_grad=True\n",
            "backbone.layer4.1.bn1.bias: requires_grad=True\n",
            "backbone.layer4.1.conv2.weight: requires_grad=True\n",
            "backbone.layer4.1.bn2.weight: requires_grad=True\n",
            "backbone.layer4.1.bn2.bias: requires_grad=True\n",
            "backbone.fc.weight: requires_grad=True\n",
            "backbone.fc.bias: requires_grad=True\n"
          ]
        }
      ]
    },
    {
      "cell_type": "code",
      "source": [
        "criterion = nn.MSELoss()\n",
        "optimizer = optim.Adam(model.parameters(), lr=1e-4)"
      ],
      "metadata": {
        "id": "PRrqJNjwMPQQ"
      },
      "execution_count": 25,
      "outputs": []
    },
    {
      "cell_type": "code",
      "source": [
        "from tqdm import tqdm\n",
        "\n",
        "training_losses = []\n",
        "testing_losses = []\n",
        "\n",
        "num_epochs = 7\n",
        "for epoch in range(num_epochs):\n",
        "  model.train()\n",
        "  for images, rotation_labels in tqdm(train_loader, desc=f' Training epoch{epoch + 1}/{num_epochs}', dynamic_ncols=True):\n",
        "      images, rotation_labels = images.to(device), rotation_labels.to(device)\n",
        "\n",
        "      optimizer.zero_grad()\n",
        "      outputs = model(images)\n",
        "      loss = criterion(outputs, rotation_labels)\n",
        "      loss.backward()\n",
        "      optimizer.step()\n",
        "\n",
        "  # Evaluation\n",
        "  model.eval()\n",
        "  test_loss = 0\n",
        "  with torch.no_grad():\n",
        "      for test_images, test_rotation_labels in tqdm(test_loader, desc=f' Eval epoch{epoch + 1}/{num_epochs}', dynamic_ncols=True):\n",
        "          test_images, test_rotation_labels = test_images.to(device), test_rotation_labels.to(device)\n",
        "          test_outputs = model(test_images)\n",
        "          test_loss += criterion(test_outputs, test_rotation_labels).item()\n",
        "\n",
        "  training_losses.append(loss.item())\n",
        "  testing_losses.append(test_loss / len(test_loader))\n",
        "  print(f\"Epoch {epoch + 1}, Loss: {loss.item()}, Test Loss: {test_loss / len(test_loader)}\")\n",
        "  torch.save(model.state_dict(), '/content/drive/MyDrive/rotation_resnet18_fine_tuned.pth')\n",
        "\n",
        "plt.figure(figsize=(10, 5))\n",
        "plt.plot(range(1, num_epochs + 1), training_losses, label='Training Loss')\n",
        "plt.plot(range(1, num_epochs + 1), testing_losses, label='Testing Loss')\n",
        "plt.xlabel('Epoch')\n",
        "plt.ylabel('Loss')\n",
        "plt.title('Training and Testing Loss Over Epochs')\n",
        "plt.legend()\n",
        "plt.show()\n",
        "\n",
        "\n"
      ],
      "metadata": {
        "colab": {
          "base_uri": "https://localhost:8080/",
          "height": 852
        },
        "id": "jYiwX1sRMDOB",
        "outputId": "b44cfa30-58ad-40e6-836c-5705c4e04505"
      },
      "execution_count": 26,
      "outputs": [
        {
          "output_type": "stream",
          "name": "stderr",
          "text": [
            " Training epoch1/7: 100%|██████████| 500/500 [02:56<00:00,  2.84it/s]\n",
            " Eval epoch1/7: 100%|██████████| 126/126 [00:44<00:00,  2.84it/s]\n"
          ]
        },
        {
          "output_type": "stream",
          "name": "stdout",
          "text": [
            "Epoch 1, Loss: 0.009028258733451366, Test Loss: 0.006281191843473131\n"
          ]
        },
        {
          "output_type": "stream",
          "name": "stderr",
          "text": [
            " Training epoch2/7: 100%|██████████| 500/500 [02:54<00:00,  2.86it/s]\n",
            " Eval epoch2/7: 100%|██████████| 126/126 [00:44<00:00,  2.82it/s]\n"
          ]
        },
        {
          "output_type": "stream",
          "name": "stdout",
          "text": [
            "Epoch 2, Loss: 0.0028135343454778194, Test Loss: 0.005551103483109425\n"
          ]
        },
        {
          "output_type": "stream",
          "name": "stderr",
          "text": [
            " Training epoch3/7: 100%|██████████| 500/500 [02:53<00:00,  2.88it/s]\n",
            " Eval epoch3/7: 100%|██████████| 126/126 [00:44<00:00,  2.83it/s]\n"
          ]
        },
        {
          "output_type": "stream",
          "name": "stdout",
          "text": [
            "Epoch 3, Loss: 0.000794180843513459, Test Loss: 0.002481569062862065\n"
          ]
        },
        {
          "output_type": "stream",
          "name": "stderr",
          "text": [
            " Training epoch4/7: 100%|██████████| 500/500 [02:55<00:00,  2.85it/s]\n",
            " Eval epoch4/7: 100%|██████████| 126/126 [00:44<00:00,  2.85it/s]\n"
          ]
        },
        {
          "output_type": "stream",
          "name": "stdout",
          "text": [
            "Epoch 4, Loss: 0.0014918951783329248, Test Loss: 0.003487230819975218\n"
          ]
        },
        {
          "output_type": "stream",
          "name": "stderr",
          "text": [
            " Training epoch5/7: 100%|██████████| 500/500 [02:54<00:00,  2.87it/s]\n",
            " Eval epoch5/7: 100%|██████████| 126/126 [00:44<00:00,  2.85it/s]\n"
          ]
        },
        {
          "output_type": "stream",
          "name": "stdout",
          "text": [
            "Epoch 5, Loss: 0.0008709902758710086, Test Loss: 0.0021723307988380956\n"
          ]
        },
        {
          "output_type": "stream",
          "name": "stderr",
          "text": [
            " Training epoch6/7: 100%|██████████| 500/500 [02:54<00:00,  2.86it/s]\n",
            " Eval epoch6/7: 100%|██████████| 126/126 [00:44<00:00,  2.85it/s]\n"
          ]
        },
        {
          "output_type": "stream",
          "name": "stdout",
          "text": [
            "Epoch 6, Loss: 0.0007959583308547735, Test Loss: 0.003282557210204975\n"
          ]
        },
        {
          "output_type": "stream",
          "name": "stderr",
          "text": [
            " Training epoch7/7: 100%|██████████| 500/500 [02:53<00:00,  2.88it/s]\n",
            " Eval epoch7/7: 100%|██████████| 126/126 [00:44<00:00,  2.84it/s]\n"
          ]
        },
        {
          "output_type": "stream",
          "name": "stdout",
          "text": [
            "Epoch 7, Loss: 0.00018884055316448212, Test Loss: 0.0018437218432876443\n"
          ]
        },
        {
          "output_type": "display_data",
          "data": {
            "text/plain": [
              "<Figure size 1000x500 with 1 Axes>"
            ],
            "image/png": "[encoded data removed]"
          },
          "metadata": {}
        }
      ]
    },
    {
      "cell_type": "code",
      "source": [
        "predictions = []\n",
        "model.eval()\n",
        "with torch.no_grad():\n",
        "    for test_images, test_rotation_labels in tqdm(test_loader):\n",
        "        test_images = test_images.to(device)\n",
        "        test_outputs = model(test_images)\n",
        "        predictions.extend(test_outputs.cpu().numpy())"
      ],
      "metadata": {
        "colab": {
          "base_uri": "https://localhost:8080/"
        },
        "id": "uNTCHrspMciD",
        "outputId": "7d4e3463-0823-4be0-8720-495b7ad451f2"
      },
      "execution_count": 27,
      "outputs": [
        {
          "output_type": "stream",
          "name": "stderr",
          "text": [
            "100%|██████████| 126/126 [00:44<00:00,  2.85it/s]\n"
          ]
        }
      ]
    },
    {
      "cell_type": "code",
      "source": [
        "import numpy as np\n",
        "\n",
        "predictions_array = np.array(predictions)\n",
        "orig = []\n",
        "\n",
        "for val in test_annotations.iloc[:, 1:4].values:\n",
        "  orig.append(val)\n",
        "\n",
        "orig_array = np.array(orig)\n",
        "\n",
        "predictions_degrees = predictions_array * 180.0\n",
        "orig_degrees = orig_array * 180.0\n",
        "\n",
        "differences = orig_degrees - predictions_degrees\n",
        "differences = np.abs(differences)\n",
        "\n",
        "differences_df = pd.DataFrame(differences, columns=['x', 'y', 'z'])\n",
        "\n",
        "x_avg = differences_df['x'].mean()\n",
        "y_avg = differences_df['y'].mean()\n",
        "z_avg = differences_df['z'].mean()\n",
        "\n",
        "print(f\"Average difference in x: {x_avg}\")\n",
        "print(f\"Average difference in y: {y_avg}\")\n",
        "print(f\"Average difference in z: {z_avg}\")\n",
        "\n",
        "differences_df.head(10)"
      ],
      "metadata": {
        "colab": {
          "base_uri": "https://localhost:8080/",
          "height": 415
        },
        "id": "0w8KEq0YTACC",
        "outputId": "c6d801df-3091-498e-e0a8-3d891f98c906"
      },
      "execution_count": 29,
      "outputs": [
        {
          "output_type": "stream",
          "name": "stdout",
          "text": [
            "Average difference in x: 1.380972990449897\n",
            "Average difference in y: 4.266019202590543\n",
            "Average difference in z: 0.6891635117465751\n"
          ]
        },
        {
          "output_type": "execute_result",
          "data": {
            "text/plain": [
              "          x         y         z\n",
              "0  0.008667  2.891915  0.465530\n",
              "1  1.061070  7.745391  0.639069\n",
              "2  0.414993  6.459447  1.439301\n",
              "3  3.135321  2.550882  0.982224\n",
              "4  0.428935  0.112833  1.457703\n",
              "5  0.973552  0.803027  0.864960\n",
              "6  0.709681  1.168736  0.519775\n",
              "7  3.407221  0.995051  0.119415\n",
              "8  0.601246  7.312666  0.571823\n",
              "9  2.047130  3.236164  1.530792"
            ],
            "text/html": [
              "\n",
              "  <div id=\"df-4df84539-47ba-435a-bae8-08ce14204170\" class=\"colab-df-container\">\n",
              "    <div>\n",
              "<style scoped>\n",
              "    .dataframe tbody tr th:only-of-type {\n",
              "        vertical-align: middle;\n",
              "    }\n",
              "\n",
              "    .dataframe tbody tr th {\n",
              "        vertical-align: top;\n",
              "    }\n",
              "\n",
              "    .dataframe thead th {\n",
              "        text-align: right;\n",
              "    }\n",
              "</style>\n",
              "<table border=\"1\" class=\"dataframe\">\n",
              "  <thead>\n",
              "    <tr style=\"text-align: right;\">\n",
              "      <th></th>\n",
              "      <th>x</th>\n",
              "      <th>y</th>\n",
              "      <th>z</th>\n",
              "    </tr>\n",
              "  </thead>\n",
              "  <tbody>\n",
              "    <tr>\n",
              "      <th>0</th>\n",
              "      <td>0.008667</td>\n",
              "      <td>2.891915</td>\n",
              "      <td>0.465530</td>\n",
              "    </tr>\n",
              "    <tr>\n",
              "      <th>1</th>\n",
              "      <td>1.061070</td>\n",
              "      <td>7.745391</td>\n",
              "      <td>0.639069</td>\n",
              "    </tr>\n",
              "    <tr>\n",
              "      <th>2</th>\n",
              "      <td>0.414993</td>\n",
              "      <td>6.459447</td>\n",
              "      <td>1.439301</td>\n",
              "    </tr>\n",
              "    <tr>\n",
              "      <th>3</th>\n",
              "      <td>3.135321</td>\n",
              "      <td>2.550882</td>\n",
              "      <td>0.982224</td>\n",
              "    </tr>\n",
              "    <tr>\n",
              "      <th>4</th>\n",
              "      <td>0.428935</td>\n",
              "      <td>0.112833</td>\n",
              "      <td>1.457703</td>\n",
              "    </tr>\n",
              "    <tr>\n",
              "      <th>5</th>\n",
              "      <td>0.973552</td>\n",
              "      <td>0.803027</td>\n",
              "      <td>0.864960</td>\n",
              "    </tr>\n",
              "    <tr>\n",
              "      <th>6</th>\n",
              "      <td>0.709681</td>\n",
              "      <td>1.168736</td>\n",
              "      <td>0.519775</td>\n",
              "    </tr>\n",
              "    <tr>\n",
              "      <th>7</th>\n",
              "      <td>3.407221</td>\n",
              "      <td>0.995051</td>\n",
              "      <td>0.119415</td>\n",
              "    </tr>\n",
              "    <tr>\n",
              "      <th>8</th>\n",
              "      <td>0.601246</td>\n",
              "      <td>7.312666</td>\n",
              "      <td>0.571823</td>\n",
              "    </tr>\n",
              "    <tr>\n",
              "      <th>9</th>\n",
              "      <td>2.047130</td>\n",
              "      <td>3.236164</td>\n",
              "      <td>1.530792</td>\n",
              "    </tr>\n",
              "  </tbody>\n",
              "</table>\n",
              "</div>\n",
              "    <div class=\"colab-df-buttons\">\n",
              "\n",
              "  <div class=\"colab-df-container\">\n",
              "    <button class=\"colab-df-convert\" onclick=\"convertToInteractive('df-4df84539-47ba-435a-bae8-08ce14204170')\"\n",
              "            title=\"Convert this dataframe to an interactive table.\"\n",
              "            style=\"display:none;\">\n",
              "\n",
              "  <svg xmlns=\"http://www.w3.org/2000/svg\" height=\"24px\" viewBox=\"0 -960 960 960\">\n",
              "    <path d=\"M120-120v-720h720v720H120Zm60-500h600v-160H180v160Zm220 220h160v-160H400v160Zm0 220h160v-160H400v160ZM180-400h160v-160H180v160Zm440 0h160v-160H620v160ZM180-180h160v-160H180v160Zm440 0h160v-160H620v160Z\"/>\n",
              "  </svg>\n",
              "    </button>\n",
              "\n",
              "  <style>\n",
              "    .colab-df-container {\n",
              "      display:flex;\n",
              "      gap: 12px;\n",
              "    }\n",
              "\n",
              "    .colab-df-convert {\n",
              "      background-color: #E8F0FE;\n",
              "      border: none;\n",
              "      border-radius: 50%;\n",
              "      cursor: pointer;\n",
              "      display: none;\n",
              "      fill: #1967D2;\n",
              "      height: 32px;\n",
              "      padding: 0 0 0 0;\n",
              "      width: 32px;\n",
              "    }\n",
              "\n",
              "    .colab-df-convert:hover {\n",
              "      background-color: #E2EBFA;\n",
              "      box-shadow: 0px 1px 2px rgba(60, 64, 67, 0.3), 0px 1px 3px 1px rgba(60, 64, 67, 0.15);\n",
              "      fill: #174EA6;\n",
              "    }\n",
              "\n",
              "    .colab-df-buttons div {\n",
              "      margin-bottom: 4px;\n",
              "    }\n",
              "\n",
              "    [theme=dark] .colab-df-convert {\n",
              "      background-color: #3B4455;\n",
              "      fill: #D2E3FC;\n",
              "    }\n",
              "\n",
              "    [theme=dark] .colab-df-convert:hover {\n",
              "      background-color: #434B5C;\n",
              "      box-shadow: 0px 1px 3px 1px rgba(0, 0, 0, 0.15);\n",
              "      filter: drop-shadow(0px 1px 2px rgba(0, 0, 0, 0.3));\n",
              "      fill: #FFFFFF;\n",
              "    }\n",
              "  </style>\n",
              "\n",
              "    <script>\n",
              "      const buttonEl =\n",
              "        document.querySelector('#df-4df84539-47ba-435a-bae8-08ce14204170 button.colab-df-convert');\n",
              "      buttonEl.style.display =\n",
              "        google.colab.kernel.accessAllowed ? 'block' : 'none';\n",
              "\n",
              "      async function convertToInteractive(key) {\n",
              "        const element = document.querySelector('#df-4df84539-47ba-435a-bae8-08ce14204170');\n",
              "        const dataTable =\n",
              "          await google.colab.kernel.invokeFunction('convertToInteractive',\n",
              "                                                    [key], {});\n",
              "        if (!dataTable) return;\n",
              "\n",
              "        const docLinkHtml = 'Like what you see? Visit the ' +\n",
              "          '<a target=\"_blank\" href=https://colab.research.google.com/notebooks/data_table.ipynb>data table notebook</a>'\n",
              "          + ' to learn more about interactive tables.';\n",
              "        element.innerHTML = '';\n",
              "        dataTable['output_type'] = 'display_data';\n",
              "        await google.colab.output.renderOutput(dataTable, element);\n",
              "        const docLink = document.createElement('div');\n",
              "        docLink.innerHTML = docLinkHtml;\n",
              "        element.appendChild(docLink);\n",
              "      }\n",
              "    </script>\n",
              "  </div>\n",
              "\n",
              "\n",
              "<div id=\"df-0b7d4fd2-ad4c-4033-9a65-f48c559fe7bc\">\n",
              "  <button class=\"colab-df-quickchart\" onclick=\"quickchart('df-0b7d4fd2-ad4c-4033-9a65-f48c559fe7bc')\"\n",
              "            title=\"Suggest charts\"\n",
              "            style=\"display:none;\">\n",
              "\n",
              "<svg xmlns=\"http://www.w3.org/2000/svg\" height=\"24px\"viewBox=\"0 0 24 24\"\n",
              "     width=\"24px\">\n",
              "    <g>\n",
              "        <path d=\"M19 3H5c-1.1 0-2 .9-2 2v14c0 1.1.9 2 2 2h14c1.1 0 2-.9 2-2V5c0-1.1-.9-2-2-2zM9 17H7v-7h2v7zm4 0h-2V7h2v10zm4 0h-2v-4h2v4z\"/>\n",
              "    </g>\n",
              "</svg>\n",
              "  </button>\n",
              "\n",
              "<style>\n",
              "  .colab-df-quickchart {\n",
              "      --bg-color: #E8F0FE;\n",
              "      --fill-color: #1967D2;\n",
              "      --hover-bg-color: #E2EBFA;\n",
              "      --hover-fill-color: #174EA6;\n",
              "      --disabled-fill-color: #AAA;\n",
              "      --disabled-bg-color: #DDD;\n",
              "  }\n",
              "\n",
              "  [theme=dark] .colab-df-quickchart {\n",
              "      --bg-color: #3B4455;\n",
              "      --fill-color: #D2E3FC;\n",
              "      --hover-bg-color: #434B5C;\n",
              "      --hover-fill-color: #FFFFFF;\n",
              "      --disabled-bg-color: #3B4455;\n",
              "      --disabled-fill-color: #666;\n",
              "  }\n",
              "\n",
              "  .colab-df-quickchart {\n",
              "    background-color: var(--bg-color);\n",
              "    border: none;\n",
              "    border-radius: 50%;\n",
              "    cursor: pointer;\n",
              "    display: none;\n",
              "    fill: var(--fill-color);\n",
              "    height: 32px;\n",
              "    padding: 0;\n",
              "    width: 32px;\n",
              "  }\n",
              "\n",
              "  .colab-df-quickchart:hover {\n",
              "    background-color: var(--hover-bg-color);\n",
              "    box-shadow: 0 1px 2px rgba(60, 64, 67, 0.3), 0 1px 3px 1px rgba(60, 64, 67, 0.15);\n",
              "    fill: var(--button-hover-fill-color);\n",
              "  }\n",
              "\n",
              "  .colab-df-quickchart-complete:disabled,\n",
              "  .colab-df-quickchart-complete:disabled:hover {\n",
              "    background-color: var(--disabled-bg-color);\n",
              "    fill: var(--disabled-fill-color);\n",
              "    box-shadow: none;\n",
              "  }\n",
              "\n",
              "  .colab-df-spinner {\n",
              "    border: 2px solid var(--fill-color);\n",
              "    border-color: transparent;\n",
              "    border-bottom-color: var(--fill-color);\n",
              "    animation:\n",
              "      spin 1s steps(1) infinite;\n",
              "  }\n",
              "\n",
              "  @keyframes spin {\n",
              "    0% {\n",
              "      border-color: transparent;\n",
              "      border-bottom-color: var(--fill-color);\n",
              "      border-left-color: var(--fill-color);\n",
              "    }\n",
              "    20% {\n",
              "      border-color: transparent;\n",
              "      border-left-color: var(--fill-color);\n",
              "      border-top-color: var(--fill-color);\n",
              "    }\n",
              "    30% {\n",
              "      border-color: transparent;\n",
              "      border-left-color: var(--fill-color);\n",
              "      border-top-color: var(--fill-color);\n",
              "      border-right-color: var(--fill-color);\n",
              "    }\n",
              "    40% {\n",
              "      border-color: transparent;\n",
              "      border-right-color: var(--fill-color);\n",
              "      border-top-color: var(--fill-color);\n",
              "    }\n",
              "    60% {\n",
              "      border-color: transparent;\n",
              "      border-right-color: var(--fill-color);\n",
              "    }\n",
              "    80% {\n",
              "      border-color: transparent;\n",
              "      border-right-color: var(--fill-color);\n",
              "      border-bottom-color: var(--fill-color);\n",
              "    }\n",
              "    90% {\n",
              "      border-color: transparent;\n",
              "      border-bottom-color: var(--fill-color);\n",
              "    }\n",
              "  }\n",
              "</style>\n",
              "\n",
              "  <script>\n",
              "    async function quickchart(key) {\n",
              "      const quickchartButtonEl =\n",
              "        document.querySelector('#' + key + ' button');\n",
              "      quickchartButtonEl.disabled = true;  // To prevent multiple clicks.\n",
              "      quickchartButtonEl.classList.add('colab-df-spinner');\n",
              "      try {\n",
              "        const charts = await google.colab.kernel.invokeFunction(\n",
              "            'suggestCharts', [key], {});\n",
              "      } catch (error) {\n",
              "        console.error('Error during call to suggestCharts:', error);\n",
              "      }\n",
              "      quickchartButtonEl.classList.remove('colab-df-spinner');\n",
              "      quickchartButtonEl.classList.add('colab-df-quickchart-complete');\n",
              "    }\n",
              "    (() => {\n",
              "      let quickchartButtonEl =\n",
              "        document.querySelector('#df-0b7d4fd2-ad4c-4033-9a65-f48c559fe7bc button');\n",
              "      quickchartButtonEl.style.display =\n",
              "        google.colab.kernel.accessAllowed ? 'block' : 'none';\n",
              "    })();\n",
              "  </script>\n",
              "</div>\n",
              "\n",
              "    </div>\n",
              "  </div>\n"
            ],
            "application/vnd.google.colaboratory.intrinsic+json": {
              "type": "dataframe",
              "variable_name": "differences_df",
              "summary": "{\n  \"name\": \"differences_df\",\n  \"rows\": 4001,\n  \"fields\": [\n    {\n      \"column\": \"x\",\n      \"properties\": {\n        \"dtype\": \"number\",\n        \"std\": 1.1583066778704219,\n        \"min\": 0.0003960693359488232,\n        \"max\": 8.608574401855478,\n        \"num_unique_values\": 4001,\n        \"samples\": [\n          0.28653317871095396,\n          0.44943435058593195,\n          1.661119628906249\n        ],\n        \"semantic_type\": \"\",\n        \"description\": \"\"\n      }\n    },\n    {\n      \"column\": \"y\",\n      \"properties\": {\n        \"dtype\": \"number\",\n        \"std\": 12.583180345226816,\n        \"min\": 0.0004759399413956089,\n        \"max\": 381.8422718017578,\n        \"num_unique_values\": 4001,\n        \"samples\": [\n          2.0106707641601815,\n          11.719040234374972,\n          1.7137425048828163\n        ],\n        \"semantic_type\": \"\",\n        \"description\": \"\"\n      }\n    },\n    {\n      \"column\": \"z\",\n      \"properties\": {\n        \"dtype\": \"number\",\n        \"std\": 0.5087588010832828,\n        \"min\": 0.0001678466796875,\n        \"max\": 4.0402069091796875,\n        \"num_unique_values\": 3883,\n        \"samples\": [\n          0.983367919921875,\n          1.83673095703125,\n          0.348602294921875\n        ],\n        \"semantic_type\": \"\",\n        \"description\": \"\"\n      }\n    }\n  ]\n}"
            }
          },
          "metadata": {},
          "execution_count": 29
        }
      ]
    }
  ]
}