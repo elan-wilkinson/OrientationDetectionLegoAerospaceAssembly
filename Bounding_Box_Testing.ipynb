{
 "cells": [
  {
   "cell_type": "code",
   "execution_count": null,
   "metadata": {
    "colab": {
     "base_uri": "https://localhost:8080/"
    },
    "id": "sMoGFl5ta_DX",
    "outputId": "5be09af2-5e58-4427-bdd6-5ebe8443b52a"
   },
   "outputs": [],
   "source": [
    "from torchvision.models.detection import fasterrcnn_resnet50_fpn\n",
    "from torchvision.models.detection.faster_rcnn import FastRCNNPredictor\n",
    "import torch.optim as optim\n",
    "import torch\n",
    "\n",
    "classes = [\"shuttle_main\"]\n",
    "num_classes = len(classes) + 1\n",
    "model = fasterrcnn_resnet50_fpn(pretrained=False, num_classes=num_classes)\n",
    "\n",
    "\n",
    "model.load_state_dict(torch.load(\"./faster_rcnn_model_2.pth\"))\n",
    "device = torch.device(\"cuda\" if torch.cuda.is_available() else \"cpu\")\n",
    "model = model.to(device)"
   ]
  },
  {
   "cell_type": "code",
   "execution_count": null,
   "metadata": {},
   "outputs": [],
   "source": [
    "import torch.nn as nn\n",
    "import torchvision.models as models\n",
    "\n",
    "\n",
    "class QuaternionModel(nn.Module):\n",
    "    def __init__(self):\n",
    "        super(QuaternionModel, self).__init__()\n",
    "        self.base_model = models.resnet50(pretrained=True)\n",
    "        self.base_model.fc = nn.Sequential(\n",
    "            nn.Linear(self.base_model.fc.in_features, 128),\n",
    "            nn.ReLU(),\n",
    "            nn.Linear(128, 4)\n",
    "        )\n",
    "\n",
    "    def forward(self, x):\n",
    "        return self.base_model(x)\n",
    "\n",
    "\n",
    "rot_model = QuaternionModel()\n",
    "\n",
    "\n",
    "rot_model.load_state_dict(torch.load(\"./fine_tuned_quaternion_model.pth\"))\n",
    "device = torch.device(\"cuda\" if torch.cuda.is_available() else \"cpu\")\n",
    "rot_model = rot_model.to(device)\n",
    "\n",
    "model.eval()\n",
    "\n",
    "print(\"Model loaded successfully!\")"
   ]
  },
  {
   "cell_type": "code",
   "execution_count": 3,
   "metadata": {},
   "outputs": [],
   "source": [
    "from torchvision import transforms, models\n",
    "class ResNetRotationModel(nn.Module):\n",
    "    def __init__(self, pretrained=True):\n",
    "        super(ResNetRotationModel, self).__init__()\n",
    "        # Load a pre-trained ResNet model\n",
    "        self.backbone = models.resnet18(pretrained=pretrained)\n",
    "        num_features = self.backbone.fc.in_features\n",
    "        # Replace the fully connected layer with a custom head for regression\n",
    "        self.backbone.fc = nn.Linear(num_features, 3)  # Output x, y, z rotations\n",
    "\n",
    "    def forward(self, x):\n",
    "        return self.backbone(x)\n",
    "\n",
    "device = torch.device(\"cuda\" if torch.cuda.is_available() else \"cpu\")\n"
   ]
  },
  {
   "cell_type": "code",
   "execution_count": null,
   "metadata": {},
   "outputs": [],
   "source": [
    "\n",
    "res18_model = ResNetRotationModel(pretrained=True).to(device)\n",
    "res18_model.load_state_dict(torch.load('./rotation_resnet18_fine_tuned.pth'))\n",
    "res18_model.eval()"
   ]
  },
  {
   "cell_type": "code",
   "execution_count": 5,
   "metadata": {},
   "outputs": [],
   "source": [
    "def convert_quaternion_to_euler(quaternion):\n",
    "  quaternion = torch.tensor(quaternion)\n",
    "  quaternion = quaternion.unsqueeze(0)\n",
    "  qx, qy, qz, qw = quaternion[:, 0], quaternion[:, 1], quaternion[:, 2], quaternion[:, 3]\n",
    "\n",
    "\n",
    "  roll = torch.atan2(2 * (qw * qx + qy * qz), 1 - 2 * (qx**2 + qy**2))\n",
    "\n",
    "\n",
    "  pitch = torch.asin(2 * (qw * qy - qz * qx))\n",
    "\n",
    "\n",
    "  yaw = torch.atan2(2 * (qw * qz + qx * qy), 1 - 2 * (qy**2 + qz**2))\n",
    "\n",
    "  roll_deg = torch.rad2deg(roll)\n",
    "  pitch_deg = torch.rad2deg(pitch)\n",
    "  yaw_deg = torch.rad2deg(yaw)\n",
    "\n",
    "\n",
    "  euler_degrees = torch.stack([roll_deg, pitch_deg, yaw_deg], dim=1)\n",
    "  return euler_degrees[0].squeeze(0).numpy()"
   ]
  },
  {
   "cell_type": "code",
   "execution_count": 16,
   "metadata": {
    "id": "fPG7gV4BjylD"
   },
   "outputs": [],
   "source": [
    "import cv2\n",
    "import torch\n",
    "import numpy as np\n",
    "from cv2 import imshow\n",
    "from torchvision import transforms\n",
    "from PIL import Image\n",
    "\n",
    "transform = transforms.Compose([\n",
    "    transforms.Resize((224, 224)),\n",
    "    transforms.ToTensor(),\n",
    "    transforms.Normalize(mean=[0.485, 0.456, 0.406], std=[0.229, 0.224, 0.225])\n",
    "])\n",
    "\n",
    "\n",
    "def preprocess_frame(frame):\n",
    "    frame = cv2.cvtColor(frame, cv2.COLOR_BGR2RGB)\n",
    "    frame = cv2.resize(frame, (640, 640))\n",
    "    frame = frame / 255.0\n",
    "    input_tensor = torch.tensor(frame.transpose(2, 0, 1), dtype=torch.float32).unsqueeze(0)\n",
    "    input_tensor = input_tensor.to(device)\n",
    "    return input_tensor\n",
    "\n",
    "\n",
    "def draw_boxes(frame, predictions, confidence_threshold=0.90):\n",
    "    size = frame.shape\n",
    "    frame = cv2.resize(frame, (640, 640))\n",
    "    cropped_image = None\n",
    "    for box, score in zip(predictions[\"boxes\"], predictions[\"scores\"]):\n",
    "        if score > confidence_threshold:\n",
    "            # Get the bounding box values\n",
    "            xmin, ymin, xmax, ymax = map(int, box.cpu().numpy())\n",
    "            width = xmax - xmin\n",
    "            height = ymax - ymin\n",
    "            # Determine the size of the square\n",
    "            side_length = max(width, height)\n",
    "\n",
    "            # Calculate center of the original box\n",
    "            center_x = (xmin + xmax) // 2\n",
    "            center_y = (ymin + ymax) // 2\n",
    "\n",
    "            # Compute new square bounding box coordinates\n",
    "            xmin_new = center_x - side_length // 2\n",
    "            xmax_new = center_x + side_length // 2\n",
    "            ymin_new = center_y - side_length // 2\n",
    "            ymax_new = center_y + side_length // 2\n",
    "\n",
    "            # Ensure the coordinates are within image bounds\n",
    "            xmin_new = max(0, xmin_new)\n",
    "            ymin_new = max(0, ymin_new)\n",
    "            xmax_new = min(frame.shape[1], xmax_new)\n",
    "            ymax_new = min(frame.shape[0], ymax_new)\n",
    "\n",
    "            # Get the cropped square image\n",
    "            cropped_image = frame[ymin_new:ymax_new, xmin_new:xmax_new]\n",
    "            \n",
    "            # Get cropped image for rotation detection\n",
    "            # cropped_image = frame[ymin:ymax, xmin:xmax]\n",
    "            # Preprocess the image based on your model\n",
    "            cropped_image = cv2.cvtColor(cropped_image, cv2.COLOR_BGR2RGB)\n",
    "            cropped_image = Image.fromarray(cropped_image)\n",
    "            cropped_image = transform(cropped_image)\n",
    "            cropped_image = cropped_image.unsqueeze(0)\n",
    "            cropped_image = cropped_image.to(device)\n",
    "            # Pass image to rotation model\n",
    "            with torch.no_grad():\n",
    "                output = res18_model(cropped_image)\n",
    "                output = output[0].cpu().numpy()\n",
    "                output = output * 180\n",
    "                # output = convert_quaternion_to_euler(output) # get the angles to draw on the frame\n",
    "            cv2.rectangle(frame, (xmin_new, ymin_new), (xmax_new, ymax_new), (0, 0, 255), 2)\n",
    "            cv2.putText(frame, f\"x:{output[0]:.2f} y:{output[1]:.2f} z:{output[2]:.2f}\", (xmin_new, ymin_new - 10),\n",
    "                        cv2.FONT_HERSHEY_SIMPLEX, 0.5, (255, 255, 255), 1)\n",
    "    return frame\n"
   ]
  },
  {
   "cell_type": "code",
   "execution_count": null,
   "metadata": {
    "colab": {
     "base_uri": "https://localhost:8080/"
    },
    "id": "elM8sO3BkoMM",
    "outputId": "319e9c95-f00b-4356-b4fd-606644924184"
   },
   "outputs": [],
   "source": [
    "import cv2\n",
    "import torch\n",
    "\n",
    "\n",
    "try:\n",
    "    cap = cv2.VideoCapture('/dev/video0')\n",
    "    output_filename = 'output_video_3.mp4'\n",
    "    frame_width = int(640)\n",
    "    frame_height = int(640)\n",
    "    fps = 20  # Frames per second\n",
    "    fourcc = cv2.VideoWriter_fourcc(*'mp4v')\n",
    "    out = cv2.VideoWriter(output_filename, fourcc, fps, (frame_width, frame_height))\n",
    "    if not cap.isOpened():\n",
    "        print(\"Error: Could not access the webcam.\")\n",
    "    else:\n",
    "        print(\"Press 'q' to stop the webcam feed or use Ctrl+C.\")\n",
    "        while True:\n",
    "            ret, frame = cap.read()\n",
    "            if not ret:\n",
    "                print(\"Error: Failed to capture frame.\")\n",
    "                break\n",
    "\n",
    "            input_tensor = preprocess_frame(frame)\n",
    "            # get bounding box prediction\n",
    "            with torch.no_grad():\n",
    "                model.eval()\n",
    "                prediction = model(input_tensor)[0]\n",
    "            # Pass predictions to draw boxes and get rotation angles\n",
    "            frame_with_boxes = draw_boxes(frame, prediction, confidence_threshold=0.99)\n",
    "            out.write(frame_with_boxes)\n",
    "            cv2.imshow(\"Webcam Feed\", frame_with_boxes)\n",
    "\n",
    "            if cv2.waitKey(1) & 0xFF == ord('q'):\n",
    "                break\n",
    "\n",
    "except KeyboardInterrupt:\n",
    "    print(\"\\nKeyboard Interrupt detected. Exiting...\")\n",
    "\n",
    "finally:\n",
    "    cap.release()\n",
    "    out.release()\n",
    "    cv2.destroyAllWindows()\n",
    "    print(\"Released video capture and closed all windows.\")\n"
   ]
  },
  {
   "cell_type": "code",
   "execution_count": 7,
   "metadata": {},
   "outputs": [],
   "source": [
    "\n",
    "cap.release()\n",
    "out.release()\n",
    "cv2.destroyAllWindows()"
   ]
  },
  {
   "cell_type": "code",
   "execution_count": 13,
   "metadata": {},
   "outputs": [
    {
     "name": "stdout",
     "output_type": "stream",
     "text": [
      "Error: Could not open the camera.\n"
     ]
    }
   ],
   "source": [
    "import cv2\n",
    "\n",
    "cap = cv2.VideoCapture('/dev/video0')\n",
    "\n",
    "if not cap.isOpened():\n",
    "    print(\"Error: Could not open the camera.\")\n",
    "else:\n",
    "    print(\"Camera opened successfully.\")\n",
    "    ret, frame = cap.read()\n",
    "    if ret:\n",
    "        print(\"Frame captured successfully.\")\n",
    "    else:\n",
    "        print(\"Error: Frame not captured.\")\n",
    "cap.release()\n"
   ]
  },
  {
   "cell_type": "code",
   "execution_count": 10,
   "metadata": {},
   "outputs": [
    {
     "name": "stdout",
     "output_type": "stream",
     "text": [
      "Camera was already free.\n"
     ]
    },
    {
     "name": "stderr",
     "output_type": "stream",
     "text": [
      "[ WARN:0@128.938] global cap_v4l.cpp:999 open VIDEOIO(V4L2:/dev/video0): can't open camera by index\n",
      "[ERROR:0@128.938] global obsensor_uvc_stream_channel.cpp:158 getStreamChannelGroup Camera index out of range\n"
     ]
    }
   ],
   "source": [
    "import cv2\n",
    "\n",
    "# Try to access the camera and release it\n",
    "cap = cv2.VideoCapture(0)\n",
    "\n",
    "if cap.isOpened():\n",
    "    cap.release()\n",
    "    print(\"Camera resource has been released.\")\n",
    "else:\n",
    "    print(\"Camera was already free.\")\n",
    "\n",
    "cv2.destroyAllWindows()\n"
   ]
  }
 ],
 "metadata": {
  "accelerator": "GPU",
  "colab": {
   "gpuType": "A100",
   "machine_shape": "hm",
   "provenance": []
  },
  "kernelspec": {
   "display_name": "base",
   "language": "python",
   "name": "python3"
  },
  "language_info": {
   "codemirror_mode": {
    "name": "ipython",
    "version": 3
   },
   "file_extension": ".py",
   "mimetype": "text/x-python",
   "name": "python",
   "nbconvert_exporter": "python",
   "pygments_lexer": "ipython3",
   "version": "3.8.19"
  }
 },
 "nbformat": 4,
 "nbformat_minor": 0
}
